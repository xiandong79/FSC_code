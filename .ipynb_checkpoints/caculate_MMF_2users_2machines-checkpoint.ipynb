{
 "cells": [
  {
   "cell_type": "markdown",
   "metadata": {},
   "source": [
    "## 2users_2machines equal endowment"
   ]
  },
  {
   "cell_type": "code",
   "execution_count": 10,
   "metadata": {},
   "outputs": [
    {
     "name": "stdout",
     "output_type": "stream",
     "text": [
      "1.4565520664504895e-11\n",
      "0.9090909091654888\n",
      "0.9999999999748513\n",
      "0.09090909081698996\n",
      "the s is 0.7272727272140983\n",
      "the utility of user-1 is0.7272727273353042\n",
      "the utility of user-2 is0.7272727272274929\n"
     ]
    }
   ],
   "source": [
    "from cvxpy import *\n",
    "import numpy as np\n",
    "\n",
    "# Problem data.\n",
    "n = 4\n",
    "np.random.seed(1)\n",
    "\n",
    "# Construct the problem.\n",
    "x11 = Variable()\n",
    "x12 = Variable()\n",
    "x21 = Variable()\n",
    "x22 = Variable()\n",
    "s = Variable()\n",
    "objective = Maximize(s)\n",
    "constraints = [s <= 0.2 * x11 + 0.8 * x12,\n",
    "               s <= 0.7 * x21 + 0.3 * x22,\n",
    "               0 <= x11 + x21,\n",
    "               x11 + x21 <= 1,\n",
    "               0 <= x12 + x22,\n",
    "               x12 + x22 <= 1,\n",
    "               0 <= x11, x11 <= 1,\n",
    "               0 <= x12, x12 <= 1,\n",
    "               0 <= x21, x21 <= 1,\n",
    "               0 <= x22, x22 <= 1]\n",
    "prob = Problem(objective, constraints)\n",
    "\n",
    "# The optimal objective is returned by prob.solve().\n",
    "result = prob.solve()\n",
    "# The optimal value for x is stored in x.value.\n",
    "print(x11.value)\n",
    "print(x12.value)\n",
    "print(x21.value)\n",
    "print(x22.value)\n",
    "print(\"the s is \" + str(s.value))\n",
    "print(\"the utility of user-1 is\" + str(x11.value * 0.2 + x12.value * 0.8))\n",
    "print(\"the utility of user-2 is\" + str(x21.value * 0.7 + x22.value * 0.3))"
   ]
  },
  {
   "cell_type": "markdown",
   "metadata": {
    "collapsed": true
   },
   "source": [
    "## 2users_2machines new preference value"
   ]
  },
  {
   "cell_type": "code",
   "execution_count": 1,
   "metadata": {},
   "outputs": [
    {
     "name": "stdout",
     "output_type": "stream",
     "text": [
      "4.148864034139445e-09\n",
      "0.6666666641671826\n",
      "0.9999999913951927\n",
      "0.33333333516429914\n",
      "the s is 0.5333333314366433\n",
      "the utility of user-1 is0.5333333321635189\n",
      "the utility of user-2 is0.5333333320335671\n"
     ]
    }
   ],
   "source": [
    "from cvxpy import *\n",
    "import numpy as np\n",
    "\n",
    "# Problem data.\n",
    "n = 4\n",
    "np.random.seed(1)\n",
    "\n",
    "# Construct the problem.\n",
    "x11 = Variable()\n",
    "x12 = Variable()\n",
    "x21 = Variable()\n",
    "x22 = Variable()\n",
    "s = Variable()\n",
    "objective = Maximize(s)\n",
    "constraints = [s <= 0.2 * x11 + 0.8 * x12,\n",
    "               s <= 0.3 * x21 + 0.7 * x22,\n",
    "               0 <= x11 + x21,\n",
    "               x11 + x21 <= 1,\n",
    "               0 <= x12 + x22,\n",
    "               x12 + x22 <= 1,\n",
    "               0 <= x11, x11 <= 1,\n",
    "               0 <= x12, x12 <= 1,\n",
    "               0 <= x21, x21 <= 1,\n",
    "               0 <= x22, x22 <= 1]\n",
    "prob = Problem(objective, constraints)\n",
    "\n",
    "# The optimal objective is returned by prob.solve().\n",
    "result = prob.solve()\n",
    "# The optimal value for x is stored in x.value.\n",
    "print(x11.value)\n",
    "print(x12.value)\n",
    "print(x21.value)\n",
    "print(x22.value)\n",
    "print(\"the s is \" + str(s.value))\n",
    "print(\"the utility of user-1 is\" + str(x11.value * 0.2 + x12.value * 0.8))\n",
    "print(\"the utility of user-2 is\" + str(x21.value * 0.3 + x22.value * 0.7))"
   ]
  },
  {
   "cell_type": "markdown",
   "metadata": {},
   "source": [
    "## Here, we can change \"weight\""
   ]
  },
  {
   "cell_type": "code",
   "execution_count": 3,
   "metadata": {
    "collapsed": true
   },
   "outputs": [],
   "source": [
    "import numpy as np\n",
    "import copy\n",
    "from cvxpy import *\n",
    "\n",
    "\n",
    "def FSC_quota_removed(user_number, machine_number, preferences, quotas, weights):\n",
    "    t = 1\n",
    "\n",
    "    # initialize users and machines\n",
    "    all_user = set(range(user_number))\n",
    "    active_user = copy.deepcopy(all_user)\n",
    "    machines = []\n",
    "    for j in range(machine_number):\n",
    "        machines.append(1)\n",
    "\n",
    "    utilities = []\n",
    "    for i in range(user_number):\n",
    "        utilities.append(0)\n",
    "\n",
    "    allocation = []\n",
    "    while len(active_user) > 0:\n",
    "        (share, allocation) = LP_quota_removed(t, active_user, all_user -\n",
    "                                               active_user, machines, utilities, preferences, quotas, weights)\n",
    "        (active_user, utilities) = saturate_quota_removed(t, share, active_user,\n",
    "                                                          all_user, machines, utilities, allocation, preferences, quotas, weights)\n",
    "        t += 1\n",
    "    return allocation\n",
    "\n",
    "\n",
    "def LP_quota_removed(t, active_user, inactive_user, machines, utilities, preferences, quotas, weights):\n",
    "    active_user_size = len(active_user)\n",
    "    inactive_user_size = len(inactive_user)\n",
    "    machine_size = len(machines)\n",
    "    allocation = Variable(active_user_size + inactive_user_size, machine_size)\n",
    "    share = Variable()\n",
    "\n",
    "    constraints = [0 <= share]\n",
    "    for i in active_user:\n",
    "        for j in range(machine_size):\n",
    "            constraints.append(0 <= 1 - allocation[i, j])\n",
    "            constraints.append(0 <= allocation[i, j])\n",
    "    for i in inactive_user:\n",
    "        for j in range(machine_size):\n",
    "            constraints.append(0 <= 1 - allocation[i, j])\n",
    "            constraints.append(0 <= allocation[i, j])\n",
    "\n",
    "    # machine constraints\n",
    "    for j in range(machine_size):\n",
    "        machine_c = 0\n",
    "        for i in active_user:\n",
    "            machine_c += allocation[i, j]\n",
    "        for k in inactive_user:\n",
    "            machine_c += allocation[k, j]\n",
    "        constraints.append(0 <= machines[j] - machine_c)\n",
    "\n",
    "    # utility constraints for inactive users\n",
    "    for i in inactive_user:\n",
    "        utility_c = 0\n",
    "        for j in range(machine_size):\n",
    "            utility_c += allocation[i, j] * preferences[i][j]\n",
    "        constraints.append(0 <= utility_c - utilities[i])\n",
    "\n",
    "    # preference constraints\n",
    "    for i in active_user:\n",
    "        preference_c = 0\n",
    "        for j in range(machine_size):\n",
    "            preference_c += preferences[i][j] * allocation[i, j]\n",
    "        preference_c = preference_c / weights[i]\n",
    "        #preference_c = preference_c / quotas[i]\n",
    "        constraints.append(0 == preference_c - share)\n",
    "\n",
    "    objective = Maximize(share)\n",
    "    prob = Problem(objective, constraints)\n",
    "    prob.solve()\n",
    "\n",
    "    print(\"stage = \" + str(t))\n",
    "    print_result(active_user_size + inactive_user_size,\n",
    "                 machine_size, allocation.value, preferences)\n",
    "    return prob.value, allocation.value\n",
    "\n",
    "\n",
    "def saturate_quota_removed(t, share, active_user, all_user, machines, utilities, allocation, preferences, quotas, weights):\n",
    "    inactive_set = set()\n",
    "\n",
    "    for j in active_user:\n",
    "        exclude_set = active_user - set([j])\n",
    "        for i in exclude_set:\n",
    "            u = 0\n",
    "            for k in range(len(machines)):\n",
    "                u += allocation[i, k] * preferences[i][k]\n",
    "            utilities[i] = u\n",
    "\n",
    "        (share_s, allocation_s) = LP_quota_removed(t, set([j]), all_user - set([j]), machines, utilities, preferences, quotas,\n",
    "                                                   weights)\n",
    "        if share_s - share <= 0.0000001:\n",
    "            inactive_set.add(j)\n",
    "        for i in exclude_set:\n",
    "            utilities[i] = 0\n",
    "\n",
    "    for j in inactive_set:\n",
    "        u = 0\n",
    "        for k in range(len(machines)):\n",
    "            u += allocation[j, k] * preferences[j][k]\n",
    "        utilities[j] = u\n",
    "\n",
    "    return active_user - inactive_set, utilities\n",
    "\n",
    "\n",
    "def print_result(n, m, x, true_p):\n",
    "    for i in range(n):\n",
    "        allocation = \"allocation for user \" + str(i + 1) + \" : \"\n",
    "        for j in range(m):\n",
    "            allocation = allocation + str(x[i, j]) + \";\"\n",
    "        print(allocation)\n",
    "\n",
    "    for i in range(n):\n",
    "        utility = \"U for user\" + str(i + 1) + \" = \"\n",
    "        value = 0\n",
    "        for j in range(m):\n",
    "            value += true_p[i][j] * x[i, j]\n",
    "        print(utility + str(value))\n",
    "    print(\"======================\")"
   ]
  },
  {
   "cell_type": "markdown",
   "metadata": {},
   "source": [
    "## Not equal endowment"
   ]
  },
  {
   "cell_type": "code",
   "execution_count": 5,
   "metadata": {},
   "outputs": [
    {
     "name": "stdout",
     "output_type": "stream",
     "text": [
      "stage = 1\n",
      "allocation for user 1 : 0.28571429785571173;0.9999999943989976;\n",
      "allocation for user 2 : 0.7142856997291936;5.5055087352357926e-09;\n",
      "U for user1 = 0.8571428550903404\n",
      "U for user2 = 0.2142857137726142\n",
      "======================\n",
      "stage = 1\n",
      "allocation for user 1 : 0.28571428739473803;0.9999999985356368;\n",
      "allocation for user 2 : 0.7142857116112884;8.318989572309852e-10;\n",
      "U for user1 = 0.8571428563074571\n",
      "U for user2 = 0.21428571406571578\n",
      "======================\n",
      "stage = 1\n",
      "allocation for user 1 : 0.28571427556665296;0.9999999999537105;\n",
      "allocation for user 2 : 0.7142857244228386;8.650727036987987e-11;\n",
      "U for user1 = 0.8571428550762991\n",
      "U for user2 = 0.21428571738740665\n",
      "======================\n"
     ]
    },
    {
     "data": {
      "text/plain": [
       "matrix([[2.85714298e-01, 9.99999994e-01],\n",
       "        [7.14285700e-01, 5.50550874e-09]])"
      ]
     },
     "execution_count": 5,
     "metadata": {},
     "output_type": "execute_result"
    }
   ],
   "source": [
    "FSC_quota_removed(2, 2, [[0.2, 0.8], [0.3, 0.7]], [1.6, 0.4], [0.8, 0.2])"
   ]
  },
  {
   "cell_type": "code",
   "execution_count": null,
   "metadata": {
    "collapsed": true
   },
   "outputs": [],
   "source": []
  }
 ],
 "metadata": {
  "kernelspec": {
   "display_name": "Python 3",
   "language": "python",
   "name": "python3"
  },
  "language_info": {
   "codemirror_mode": {
    "name": "ipython",
    "version": 3
   },
   "file_extension": ".py",
   "mimetype": "text/x-python",
   "name": "python",
   "nbconvert_exporter": "python",
   "pygments_lexer": "ipython3",
   "version": "3.6.3"
  }
 },
 "nbformat": 4,
 "nbformat_minor": 2
}

{
 "cells": [
  {
   "cell_type": "code",
   "execution_count": 1,
   "metadata": {
    "collapsed": true
   },
   "outputs": [],
   "source": [
    "import numpy as np\n",
    "import copy\n",
    "from cvxpy import *"
   ]
  },
  {
   "cell_type": "code",
   "execution_count": 2,
   "metadata": {
    "collapsed": true
   },
   "outputs": [],
   "source": [
    "# (share, allocation) = LP(t, active_user, all_user - active_user, machines, utilities, preferences, weights)\n",
    "# (active_user, utilities) = saturate(t, share, active_user, all_user, machines, utilities, allocation, preferences, weights)\n",
    "       \n",
    "def LP(t, active_user, inactive_user, machines, utilities, preferences, weights):\n",
    "    active_user_size = len(active_user)\n",
    "    inactive_user_size = len(inactive_user)\n",
    "    machine_size = len(machines)\n",
    "    \n",
    "    # Re-initialize the \"Variables\", a N users * M machines matrix\n",
    "    allocation = Variable(active_user_size + inactive_user_size, machine_size)\n",
    "    # the utility share \n",
    "    share = Variable()\n",
    "\n",
    "    constraints = [0 <= share]\n",
    "    \n",
    "    # allocation constraints\n",
    "    for i in active_user:\n",
    "        for j in range(machine_size):\n",
    "            constraints.append(0 <= 1 - allocation[i, j])\n",
    "            constraints.append(0 <= allocation[i, j])\n",
    "    for i in inactive_user:\n",
    "        for j in range(machine_size):\n",
    "            constraints.append(0 <= 1 - allocation[i, j])\n",
    "            constraints.append(0 <= allocation[i, j])\n",
    "\n",
    "    # machine constraints\n",
    "    for j in range(machine_size):\n",
    "        machine_c = 0\n",
    "        for i in active_user:\n",
    "            machine_c += allocation[i, j]\n",
    "        for k in inactive_user:\n",
    "            machine_c += allocation[k, j]\n",
    "        constraints.append(0 <= machines[j] - machine_c)\n",
    "\n",
    "    # utility constraints for inactive users\n",
    "    for i in inactive_user:\n",
    "        utility_c = 0\n",
    "        for j in range(machine_size):\n",
    "            utility_c += allocation[i, j] * preferences[i][j]\n",
    "        constraints.append(0 <= utility_c - utilities[i])\n",
    "\n",
    "    # utility constraints\n",
    "    for i in active_user:\n",
    "        preference_c = 0\n",
    "        for j in range(machine_size):\n",
    "            preference_c += preferences[i][j] * allocation[i, j]\n",
    "        preference_c = preference_c / weights[i]\n",
    "        constraints.append(0 == preference_c - share)\n",
    "\n",
    "    objective = Maximize(share)\n",
    "    prob = Problem(objective, constraints)\n",
    "    prob.solve()\n",
    "\n",
    "    print(\"stage = \" + str(t))\n",
    "    print_result(active_user_size + inactive_user_size,\n",
    "                 machine_size, allocation.value, preferences, weights)\n",
    "    return prob.value, allocation.value"
   ]
  },
  {
   "cell_type": "code",
   "execution_count": 3,
   "metadata": {
    "collapsed": true
   },
   "outputs": [],
   "source": [
    "# (share, allocation) = LP(t, active_user, all_user - active_user, machines, utilities, preferences, weights)\n",
    "def saturate(t, share, active_user, all_user, machines, utilities, allocation, preferences, weights):\n",
    "    inactive_set = set()\n",
    "\n",
    "    for j in active_user:\n",
    "        exclude_set = active_user - set([j])\n",
    "        for i in exclude_set:\n",
    "            u = 0\n",
    "            for k in range(len(machines)):\n",
    "                u += allocation[i, k] * preferences[i][k]\n",
    "            utilities[i] = u\n",
    "\n",
    "        (share_s, allocation_s) = LP(t, set([j]), all_user - set([j]), machines, utilities, preferences,\n",
    "                                     weights)\n",
    "        if share_s - share <= 0.0000001:\n",
    "            inactive_set.add(j)\n",
    "        for i in exclude_set:\n",
    "            utilities[i] = 0\n",
    "\n",
    "    for j in inactive_set:\n",
    "        u = 0\n",
    "        for k in range(len(machines)):\n",
    "            u += allocation[j, k] * preferences[j][k]\n",
    "        utilities[j] = u\n",
    "\n",
    "    return active_user - inactive_set, utilities"
   ]
  },
  {
   "cell_type": "code",
   "execution_count": 4,
   "metadata": {
    "collapsed": true
   },
   "outputs": [],
   "source": [
    "def print_result(n, m, x, true_p, weights):\n",
    "    for i in range(n):\n",
    "        allocation = \"allocation for user \" + str(i + 1) + \" : \"\n",
    "        for j in range(m):\n",
    "            allocation = allocation + str(x[i, j]) + \";\"\n",
    "        print(allocation)\n",
    "\n",
    "    for i in range(n):\n",
    "        utility = \"U for user\" + str(i + 1) + \" = \"\n",
    "        value = 0\n",
    "        for j in range(m):\n",
    "            value += true_p[i][j] * x[i, j]\n",
    "        # value = value / weights[i]\n",
    "        print(utility + str(value))"
   ]
  },
  {
   "cell_type": "code",
   "execution_count": 5,
   "metadata": {
    "collapsed": true
   },
   "outputs": [],
   "source": [
    "# FSC(user, machine, true_p, weights)\n",
    "def FSC(user_number, machine_number, preferences, weights):\n",
    "    t = 1\n",
    "\n",
    "    # initialize users and machines\n",
    "    all_user = set(range(user_number))\n",
    "    active_user = copy.deepcopy(all_user)\n",
    "    machines = []\n",
    "    for j in range(machine_number):\n",
    "        machines.append(1)\n",
    "\n",
    "    utilities = []\n",
    "    for i in range(user_number):\n",
    "        utilities.append(0)\n",
    "\n",
    "    allocation = []\n",
    "    while len(active_user) > 0:\n",
    "        (share, allocation) = LP(t, active_user, all_user -\n",
    "                                 active_user, machines, utilities, preferences, weights)\n",
    "        (active_user, utilities) = saturate(t, share, active_user,\n",
    "                                            all_user, machines, utilities, allocation, preferences, weights)\n",
    "        t += 1\n",
    "    return allocation"
   ]
  },
  {
   "cell_type": "code",
   "execution_count": 6,
   "metadata": {
    "collapsed": true
   },
   "outputs": [],
   "source": [
    "def find_untrue_p(remain, times, m):\n",
    "    p_list = []\n",
    "    if remain <= 0.0001:\n",
    "        ele = []\n",
    "        for i in range(m):\n",
    "            ele.append(0.0)\n",
    "        p_list.append(ele)\n",
    "        return p_list\n",
    "    if m == 1:\n",
    "        ele = [remain]\n",
    "        p_list.append(ele)\n",
    "        return p_list\n",
    "\n",
    "    for i in range(1, times + 1):\n",
    "        consume = (i + 0.0) / times\n",
    "        untrue_p = [consume]\n",
    "        if (remain >= consume):\n",
    "            extend_list = find_untrue_p((remain - consume), times, m - 1)\n",
    "            for l in range(len(extend_list)):\n",
    "                p_list.append(untrue_p + extend_list[l])\n",
    "    return p_list"
   ]
  },
  {
   "cell_type": "code",
   "execution_count": 7,
   "metadata": {
    "collapsed": true
   },
   "outputs": [],
   "source": [
    "def wrapper(user, machine, true_p, entitles, step=0.1):\n",
    "    last_p = true_p[-1]\n",
    "    weights = []\n",
    "    \n",
    "    # caculate weight for each user\n",
    "    for i in range(user):\n",
    "        w_i = 0\n",
    "        for j in range(machine):\n",
    "            w_i += entitles[i][j] * true_p[i][j]\n",
    "        weights.append(w_i)\n",
    "\n",
    "    # def FSC(user_number, machine_number, preferences, entitles, weights):\n",
    "    a = FSC(user, machine, true_p, weights)\n",
    "\n",
    "    print(\"true case: \" + str(last_p))\n",
    "    print(\"weights : \" + str(weights))\n",
    "    print(\"======================\")\n",
    "\n",
    "    # print_result(user, machine, a, true_p, weights)\n",
    "    true_u = 0\n",
    "    for j in range(machine):\n",
    "        true_u += a[user - 1, j] * last_p[j]\n",
    "\n",
    "    times = int(1 / step)\n",
    "    all_untrue_p = find_untrue_p(1, times, machine)\n",
    "\n",
    "    num_untrue_p = 0\n",
    "    num_lucrative_untrue_p = 0\n",
    "    lucrative_untrue_p = []\n",
    "    for i in range(len(all_untrue_p)):\n",
    "        num_untrue_p += 1\n",
    "        print(\"\")\n",
    "        print(\"======== Next Test ==============\")\n",
    "        print(\"# untrue preference vector: #\" + str(num_untrue_p))\n",
    "        print(\"untrue preference vector : \" + str(all_untrue_p[i]))\n",
    "\n",
    "        untrue_p = true_p[0: len(true_p) - 1]\n",
    "        untrue_p.append(all_untrue_p[i])\n",
    "        weights = []\n",
    "        for i in range(user):\n",
    "            w_i = 0\n",
    "            for j in range(machine):\n",
    "                w_i += entitles[i][j] * untrue_p[i][j]\n",
    "            weights.append(w_i)\n",
    "\n",
    "        print(\"untrue weights : \" + str(weights))\n",
    "        print(\"======================\")\n",
    "        # FSC(user, machine, true_p, weights)\n",
    "        untrue_a = FSC(user, machine, untrue_p, weights)\n",
    "        print_result(user, machine, untrue_a, true_p, weights)\n",
    "        untrue_u = 0\n",
    "        for j in range(machine):\n",
    "            untrue_u += untrue_a[user - 1, j] * last_p[j]\n",
    "\n",
    "        if untrue_u - true_u > 0.001 * true_u:\n",
    "            num_lucrative_untrue_p += 1\n",
    "            lucrative_untrue_p.append(untrue_p)\n",
    "            print(\"# lucrative preference vector: #\" +\n",
    "                  str(num_lucrative_untrue_p))\n",
    "            print(\"Attention! lying benefit\")\n",
    "            print('======================================')\n",
    "\n",
    "    print('The untrue preference vector(s) which can gain additional is(are):')\n",
    "    print(lucrative_untrue_p)"
   ]
  },
  {
   "cell_type": "code",
   "execution_count": 8,
   "metadata": {},
   "outputs": [
    {
     "name": "stdout",
     "output_type": "stream",
     "text": [
      "stage = 1\n"
     ]
    },
    {
     "ename": "TypeError",
     "evalue": "print_result() missing 1 required positional argument: 'weights'",
     "output_type": "error",
     "traceback": [
      "\u001b[0;31m---------------------------------------------------------------------------\u001b[0m",
      "\u001b[0;31mTypeError\u001b[0m                                 Traceback (most recent call last)",
      "\u001b[0;32m<ipython-input-8-33e15dfa8c2d>\u001b[0m in \u001b[0;36m<module>\u001b[0;34m()\u001b[0m\n\u001b[1;32m      1\u001b[0m \u001b[0;31m# def wrapper(user, machine, true_p, entitles, step=0.1):\u001b[0m\u001b[0;34m\u001b[0m\u001b[0;34m\u001b[0m\u001b[0m\n\u001b[0;32m----> 2\u001b[0;31m \u001b[0mwrapper\u001b[0m\u001b[0;34m(\u001b[0m\u001b[0;36m2\u001b[0m\u001b[0;34m,\u001b[0m \u001b[0;36m2\u001b[0m\u001b[0;34m,\u001b[0m \u001b[0;34m[\u001b[0m\u001b[0;34m[\u001b[0m\u001b[0;36m0.8\u001b[0m\u001b[0;34m,\u001b[0m \u001b[0;36m0.2\u001b[0m\u001b[0;34m]\u001b[0m\u001b[0;34m,\u001b[0m \u001b[0;34m[\u001b[0m\u001b[0;36m0.7\u001b[0m\u001b[0;34m,\u001b[0m \u001b[0;36m0.3\u001b[0m\u001b[0;34m]\u001b[0m\u001b[0;34m]\u001b[0m\u001b[0;34m,\u001b[0m \u001b[0;34m[\u001b[0m\u001b[0;34m[\u001b[0m\u001b[0;36m0\u001b[0m\u001b[0;34m,\u001b[0m \u001b[0;36m0.5\u001b[0m\u001b[0;34m]\u001b[0m\u001b[0;34m,\u001b[0m \u001b[0;34m[\u001b[0m\u001b[0;36m1\u001b[0m\u001b[0;34m,\u001b[0m \u001b[0;36m0.5\u001b[0m\u001b[0;34m]\u001b[0m\u001b[0;34m]\u001b[0m\u001b[0;34m,\u001b[0m \u001b[0mstep\u001b[0m \u001b[0;34m=\u001b[0m \u001b[0;36m0.01\u001b[0m\u001b[0;34m)\u001b[0m\u001b[0;34m\u001b[0m\u001b[0m\n\u001b[0m",
      "\u001b[0;32m<ipython-input-7-7e487641f27d>\u001b[0m in \u001b[0;36mwrapper\u001b[0;34m(user, machine, true_p, entitles, step)\u001b[0m\n\u001b[1;32m     11\u001b[0m \u001b[0;34m\u001b[0m\u001b[0m\n\u001b[1;32m     12\u001b[0m     \u001b[0;31m# def FSC(user_number, machine_number, preferences, entitles, weights):\u001b[0m\u001b[0;34m\u001b[0m\u001b[0;34m\u001b[0m\u001b[0m\n\u001b[0;32m---> 13\u001b[0;31m     \u001b[0ma\u001b[0m \u001b[0;34m=\u001b[0m \u001b[0mFSC\u001b[0m\u001b[0;34m(\u001b[0m\u001b[0muser\u001b[0m\u001b[0;34m,\u001b[0m \u001b[0mmachine\u001b[0m\u001b[0;34m,\u001b[0m \u001b[0mtrue_p\u001b[0m\u001b[0;34m,\u001b[0m \u001b[0mweights\u001b[0m\u001b[0;34m)\u001b[0m\u001b[0;34m\u001b[0m\u001b[0m\n\u001b[0m\u001b[1;32m     14\u001b[0m \u001b[0;34m\u001b[0m\u001b[0m\n\u001b[1;32m     15\u001b[0m     \u001b[0mprint\u001b[0m\u001b[0;34m(\u001b[0m\u001b[0;34m\"true case: \"\u001b[0m \u001b[0;34m+\u001b[0m \u001b[0mstr\u001b[0m\u001b[0;34m(\u001b[0m\u001b[0mlast_p\u001b[0m\u001b[0;34m)\u001b[0m\u001b[0;34m)\u001b[0m\u001b[0;34m\u001b[0m\u001b[0m\n",
      "\u001b[0;32m<ipython-input-5-4b9efd737d27>\u001b[0m in \u001b[0;36mFSC\u001b[0;34m(user_number, machine_number, preferences, weights)\u001b[0m\n\u001b[1;32m     17\u001b[0m     \u001b[0;32mwhile\u001b[0m \u001b[0mlen\u001b[0m\u001b[0;34m(\u001b[0m\u001b[0mactive_user\u001b[0m\u001b[0;34m)\u001b[0m \u001b[0;34m>\u001b[0m \u001b[0;36m0\u001b[0m\u001b[0;34m:\u001b[0m\u001b[0;34m\u001b[0m\u001b[0m\n\u001b[1;32m     18\u001b[0m         (share, allocation) = LP(t, active_user, all_user -\n\u001b[0;32m---> 19\u001b[0;31m                                  active_user, machines, utilities, preferences, weights)\n\u001b[0m\u001b[1;32m     20\u001b[0m         (active_user, utilities) = saturate(t, share, active_user,\n\u001b[1;32m     21\u001b[0m                                             all_user, machines, utilities, allocation, preferences, weights)\n",
      "\u001b[0;32m<ipython-input-2-0f35f7c8f1ef>\u001b[0m in \u001b[0;36mLP\u001b[0;34m(t, active_user, inactive_user, machines, utilities, preferences, weights)\u001b[0m\n\u001b[1;32m     54\u001b[0m     \u001b[0mprint\u001b[0m\u001b[0;34m(\u001b[0m\u001b[0;34m\"stage = \"\u001b[0m \u001b[0;34m+\u001b[0m \u001b[0mstr\u001b[0m\u001b[0;34m(\u001b[0m\u001b[0mt\u001b[0m\u001b[0;34m)\u001b[0m\u001b[0;34m)\u001b[0m\u001b[0;34m\u001b[0m\u001b[0m\n\u001b[1;32m     55\u001b[0m     print_result(active_user_size + inactive_user_size,\n\u001b[0;32m---> 56\u001b[0;31m                  machine_size, allocation.value, preferences)\n\u001b[0m\u001b[1;32m     57\u001b[0m     \u001b[0;32mreturn\u001b[0m \u001b[0mprob\u001b[0m\u001b[0;34m.\u001b[0m\u001b[0mvalue\u001b[0m\u001b[0;34m,\u001b[0m \u001b[0mallocation\u001b[0m\u001b[0;34m.\u001b[0m\u001b[0mvalue\u001b[0m\u001b[0;34m\u001b[0m\u001b[0m\n",
      "\u001b[0;31mTypeError\u001b[0m: print_result() missing 1 required positional argument: 'weights'"
     ]
    }
   ],
   "source": [
    "# def wrapper(user, machine, true_p, entitles, step=0.1):\n",
    "wrapper(2, 2, [[0.8, 0.2], [0.7, 0.3]], [[0, 0.5], [1, 0.5]], step = 0.01)"
   ]
  },
  {
   "cell_type": "code",
   "execution_count": null,
   "metadata": {
    "collapsed": true
   },
   "outputs": [],
   "source": []
  }
 ],
 "metadata": {
  "kernelspec": {
   "display_name": "Python 3",
   "language": "python",
   "name": "python3"
  },
  "language_info": {
   "codemirror_mode": {
    "name": "ipython",
    "version": 3
   },
   "file_extension": ".py",
   "mimetype": "text/x-python",
   "name": "python",
   "nbconvert_exporter": "python",
   "pygments_lexer": "ipython3",
   "version": "3.6.3"
  }
 },
 "nbformat": 4,
 "nbformat_minor": 2
}

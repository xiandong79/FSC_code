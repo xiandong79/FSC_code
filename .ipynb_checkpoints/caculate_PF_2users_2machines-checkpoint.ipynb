{
 "cells": [
  {
   "cell_type": "code",
   "execution_count": 14,
   "metadata": {},
   "outputs": [
    {
     "name": "stdout",
     "output_type": "stream",
     "text": [
      "5.885793684956762e-05\n",
      "0.9999999965377482\n",
      "0.9999411369411597\n",
      "1.0582003821117606e-09\n",
      "the utility of user-1 is0.8000117688175684\n",
      "the utility of user-2 is0.6999587961762719\n"
     ]
    }
   ],
   "source": [
    "from cvxpy import *\n",
    "import numpy as np\n",
    "\n",
    "# Problem data.\n",
    "n = 4\n",
    "np.random.seed(1)\n",
    "\n",
    "# Construct the problem.\n",
    "x11 = Variable()\n",
    "x12 = Variable()\n",
    "x21 = Variable()\n",
    "x22 = Variable()\n",
    "objective = Maximize(\n",
    "    0.8*log(0.2 * x11 + 0.8 * x12) + 0.2*log(0.7 * x21 + 0.3 * x22))\n",
    "constraints = [0 <= x11 + x21,\n",
    "               x11 + x21 <= 1,\n",
    "               0 <= x12 + x22,\n",
    "               x12 + x22 <= 1,\n",
    "               0 <= x11, x11 <= 1,\n",
    "               0 <= x12, x12 <= 1,\n",
    "               0 <= x21, x21 <= 1,\n",
    "               0 <= x22, x22 <= 1]\n",
    "prob = Problem(objective, constraints)\n",
    "\n",
    "# The optimal objective is returned by prob.solve().\n",
    "result = prob.solve()\n",
    "# The optimal value for x is stored in x.value.\n",
    "print(x11.value)\n",
    "print(x12.value)\n",
    "print(x21.value)\n",
    "print(x22.value)\n",
    "print(\"the utility of user-1 is\" + str(x11.value * 0.2 + x12.value * 0.8))\n",
    "print(\"the utility of user-2 is\" + str(x21.value * 0.7 + x22.value * 0.3))"
   ]
  },
  {
   "cell_type": "code",
   "execution_count": null,
   "metadata": {},
   "outputs": [],
   "source": []
  },
  {
   "cell_type": "code",
   "execution_count": null,
   "metadata": {
    "collapsed": true
   },
   "outputs": [],
   "source": []
  }
 ],
 "metadata": {
  "kernelspec": {
   "display_name": "Python 3",
   "language": "python",
   "name": "python3"
  },
  "language_info": {
   "codemirror_mode": {
    "name": "ipython",
    "version": 3
   },
   "file_extension": ".py",
   "mimetype": "text/x-python",
   "name": "python",
   "nbconvert_exporter": "python",
   "pygments_lexer": "ipython3",
   "version": "3.6.3"
  }
 },
 "nbformat": 4,
 "nbformat_minor": 2
}
